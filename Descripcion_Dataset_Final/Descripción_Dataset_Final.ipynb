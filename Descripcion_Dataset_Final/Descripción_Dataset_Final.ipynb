{
 "cells": [
  {
   "cell_type": "markdown",
   "id": "f770f25f",
   "metadata": {},
   "source": [
    "# Descripción Dataset"
   ]
  },
  {
   "cell_type": "code",
   "execution_count": 1,
   "id": "fbe94867",
   "metadata": {},
   "outputs": [],
   "source": [
    "import pandas as pd"
   ]
  },
  {
   "cell_type": "code",
   "execution_count": 2,
   "id": "927189ac",
   "metadata": {},
   "outputs": [
    {
     "data": {
      "text/html": [
       "<div>\n",
       "<style scoped>\n",
       "    .dataframe tbody tr th:only-of-type {\n",
       "        vertical-align: middle;\n",
       "    }\n",
       "\n",
       "    .dataframe tbody tr th {\n",
       "        vertical-align: top;\n",
       "    }\n",
       "\n",
       "    .dataframe thead th {\n",
       "        text-align: right;\n",
       "    }\n",
       "</style>\n",
       "<table border=\"1\" class=\"dataframe\">\n",
       "  <thead>\n",
       "    <tr style=\"text-align: right;\">\n",
       "      <th></th>\n",
       "      <th>Equipo</th>\n",
       "      <th>Local/Visitante</th>\n",
       "      <th>Goles_Locales</th>\n",
       "      <th>Suma_Goles_Locales_Acumulados</th>\n",
       "      <th>Media_Goles_Locales</th>\n",
       "      <th>Goles_Visitantes</th>\n",
       "      <th>Suma_Goles_Visitantes_Acumulados</th>\n",
       "      <th>Media_Goles_Visitantes</th>\n",
       "      <th>Puntos_Locales</th>\n",
       "      <th>Media_Puntos_Locales</th>\n",
       "      <th>Puntos_Locales_Acumulados</th>\n",
       "      <th>Puntos_Visitantes</th>\n",
       "      <th>Media_Puntos_Visitantes</th>\n",
       "      <th>Puntos_Visitantes_Acumulados</th>\n",
       "      <th>Resultados</th>\n",
       "      <th>Fecha</th>\n",
       "      <th>Temporada</th>\n",
       "    </tr>\n",
       "  </thead>\n",
       "  <tbody>\n",
       "    <tr>\n",
       "      <th>0</th>\n",
       "      <td>Málaga</td>\n",
       "      <td>Local</td>\n",
       "      <td>0</td>\n",
       "      <td>0</td>\n",
       "      <td>1,37</td>\n",
       "      <td>0</td>\n",
       "      <td>0</td>\n",
       "      <td>0</td>\n",
       "      <td>1</td>\n",
       "      <td>1,58</td>\n",
       "      <td>1</td>\n",
       "      <td>0</td>\n",
       "      <td>0</td>\n",
       "      <td>0</td>\n",
       "      <td>x</td>\n",
       "      <td>21/08/2015</td>\n",
       "      <td>2015/2016</td>\n",
       "    </tr>\n",
       "    <tr>\n",
       "      <th>1</th>\n",
       "      <td>Sevilla</td>\n",
       "      <td>Visitante</td>\n",
       "      <td>0</td>\n",
       "      <td>0</td>\n",
       "      <td>0</td>\n",
       "      <td>0</td>\n",
       "      <td>0</td>\n",
       "      <td>0,68</td>\n",
       "      <td>0</td>\n",
       "      <td>0</td>\n",
       "      <td>0</td>\n",
       "      <td>1</td>\n",
       "      <td>0,47</td>\n",
       "      <td>1</td>\n",
       "      <td>x</td>\n",
       "      <td>21/08/2015</td>\n",
       "      <td>2015/2016</td>\n",
       "    </tr>\n",
       "    <tr>\n",
       "      <th>2</th>\n",
       "      <td>Atlético</td>\n",
       "      <td>Local</td>\n",
       "      <td>1</td>\n",
       "      <td>1</td>\n",
       "      <td>1,74</td>\n",
       "      <td>0</td>\n",
       "      <td>0</td>\n",
       "      <td>0</td>\n",
       "      <td>3</td>\n",
       "      <td>2,53</td>\n",
       "      <td>3</td>\n",
       "      <td>0</td>\n",
       "      <td>0</td>\n",
       "      <td>0</td>\n",
       "      <td>1</td>\n",
       "      <td>22/08/2015</td>\n",
       "      <td>2015/2016</td>\n",
       "    </tr>\n",
       "    <tr>\n",
       "      <th>3</th>\n",
       "      <td>Las Palmas</td>\n",
       "      <td>Visitante</td>\n",
       "      <td>0</td>\n",
       "      <td>0</td>\n",
       "      <td>0</td>\n",
       "      <td>0</td>\n",
       "      <td>0</td>\n",
       "      <td>1,05</td>\n",
       "      <td>0</td>\n",
       "      <td>0</td>\n",
       "      <td>0</td>\n",
       "      <td>0</td>\n",
       "      <td>0,79</td>\n",
       "      <td>0</td>\n",
       "      <td>1</td>\n",
       "      <td>22/08/2015</td>\n",
       "      <td>2015/2016</td>\n",
       "    </tr>\n",
       "    <tr>\n",
       "      <th>4</th>\n",
       "      <td>Espanyol</td>\n",
       "      <td>Local</td>\n",
       "      <td>1</td>\n",
       "      <td>1</td>\n",
       "      <td>1,16</td>\n",
       "      <td>0</td>\n",
       "      <td>0</td>\n",
       "      <td>0</td>\n",
       "      <td>3</td>\n",
       "      <td>1,68</td>\n",
       "      <td>3</td>\n",
       "      <td>0</td>\n",
       "      <td>0</td>\n",
       "      <td>0</td>\n",
       "      <td>1</td>\n",
       "      <td>22/08/2015</td>\n",
       "      <td>2015/2016</td>\n",
       "    </tr>\n",
       "    <tr>\n",
       "      <th>...</th>\n",
       "      <td>...</td>\n",
       "      <td>...</td>\n",
       "      <td>...</td>\n",
       "      <td>...</td>\n",
       "      <td>...</td>\n",
       "      <td>...</td>\n",
       "      <td>...</td>\n",
       "      <td>...</td>\n",
       "      <td>...</td>\n",
       "      <td>...</td>\n",
       "      <td>...</td>\n",
       "      <td>...</td>\n",
       "      <td>...</td>\n",
       "      <td>...</td>\n",
       "      <td>...</td>\n",
       "      <td>...</td>\n",
       "      <td>...</td>\n",
       "    </tr>\n",
       "    <tr>\n",
       "      <th>5315</th>\n",
       "      <td>Villarreal</td>\n",
       "      <td>Visitante</td>\n",
       "      <td>0</td>\n",
       "      <td>0</td>\n",
       "      <td>0</td>\n",
       "      <td>2</td>\n",
       "      <td>20</td>\n",
       "      <td>1,21</td>\n",
       "      <td>0</td>\n",
       "      <td>0</td>\n",
       "      <td>0</td>\n",
       "      <td>3</td>\n",
       "      <td>1,21</td>\n",
       "      <td>23</td>\n",
       "      <td>2</td>\n",
       "      <td>22/05/2022</td>\n",
       "      <td>2021/2022</td>\n",
       "    </tr>\n",
       "    <tr>\n",
       "      <th>5316</th>\n",
       "      <td>R. Sociedad</td>\n",
       "      <td>Local</td>\n",
       "      <td>1</td>\n",
       "      <td>16</td>\n",
       "      <td>0,84</td>\n",
       "      <td>0</td>\n",
       "      <td>0</td>\n",
       "      <td>0</td>\n",
       "      <td>0</td>\n",
       "      <td>1,84</td>\n",
       "      <td>33</td>\n",
       "      <td>0</td>\n",
       "      <td>0</td>\n",
       "      <td>0</td>\n",
       "      <td>2</td>\n",
       "      <td>22/05/2022</td>\n",
       "      <td>2021/2022</td>\n",
       "    </tr>\n",
       "    <tr>\n",
       "      <th>5317</th>\n",
       "      <td>Atlético</td>\n",
       "      <td>Visitante</td>\n",
       "      <td>0</td>\n",
       "      <td>0</td>\n",
       "      <td>0</td>\n",
       "      <td>2</td>\n",
       "      <td>32</td>\n",
       "      <td>1,68</td>\n",
       "      <td>0</td>\n",
       "      <td>0</td>\n",
       "      <td>0</td>\n",
       "      <td>3</td>\n",
       "      <td>1,58</td>\n",
       "      <td>30</td>\n",
       "      <td>2</td>\n",
       "      <td>22/05/2022</td>\n",
       "      <td>2021/2022</td>\n",
       "    </tr>\n",
       "    <tr>\n",
       "      <th>5318</th>\n",
       "      <td>Sevilla</td>\n",
       "      <td>Local</td>\n",
       "      <td>1</td>\n",
       "      <td>36</td>\n",
       "      <td>1,89</td>\n",
       "      <td>0</td>\n",
       "      <td>0</td>\n",
       "      <td>0</td>\n",
       "      <td>3</td>\n",
       "      <td>2,21</td>\n",
       "      <td>40</td>\n",
       "      <td>0</td>\n",
       "      <td>0</td>\n",
       "      <td>0</td>\n",
       "      <td>1</td>\n",
       "      <td>22/05/2022</td>\n",
       "      <td>2021/2022</td>\n",
       "    </tr>\n",
       "    <tr>\n",
       "      <th>5319</th>\n",
       "      <td>Athletic</td>\n",
       "      <td>Visitante</td>\n",
       "      <td>0</td>\n",
       "      <td>0</td>\n",
       "      <td>0</td>\n",
       "      <td>0</td>\n",
       "      <td>14</td>\n",
       "      <td>0,74</td>\n",
       "      <td>0</td>\n",
       "      <td>0</td>\n",
       "      <td>0</td>\n",
       "      <td>0</td>\n",
       "      <td>1,11</td>\n",
       "      <td>21</td>\n",
       "      <td>1</td>\n",
       "      <td>22/05/2022</td>\n",
       "      <td>2021/2022</td>\n",
       "    </tr>\n",
       "  </tbody>\n",
       "</table>\n",
       "<p>5320 rows × 17 columns</p>\n",
       "</div>"
      ],
      "text/plain": [
       "           Equipo Local/Visitante  Goles_Locales  \\\n",
       "0          Málaga           Local              0   \n",
       "1         Sevilla       Visitante              0   \n",
       "2        Atlético           Local              1   \n",
       "3      Las Palmas       Visitante              0   \n",
       "4        Espanyol           Local              1   \n",
       "...           ...             ...            ...   \n",
       "5315   Villarreal       Visitante              0   \n",
       "5316  R. Sociedad           Local              1   \n",
       "5317     Atlético       Visitante              0   \n",
       "5318      Sevilla           Local              1   \n",
       "5319     Athletic       Visitante              0   \n",
       "\n",
       "      Suma_Goles_Locales_Acumulados Media_Goles_Locales  Goles_Visitantes  \\\n",
       "0                                 0                1,37                 0   \n",
       "1                                 0                   0                 0   \n",
       "2                                 1                1,74                 0   \n",
       "3                                 0                   0                 0   \n",
       "4                                 1                1,16                 0   \n",
       "...                             ...                 ...               ...   \n",
       "5315                              0                   0                 2   \n",
       "5316                             16                0,84                 0   \n",
       "5317                              0                   0                 2   \n",
       "5318                             36                1,89                 0   \n",
       "5319                              0                   0                 0   \n",
       "\n",
       "      Suma_Goles_Visitantes_Acumulados Media_Goles_Visitantes  Puntos_Locales  \\\n",
       "0                                    0                      0               1   \n",
       "1                                    0                   0,68               0   \n",
       "2                                    0                      0               3   \n",
       "3                                    0                   1,05               0   \n",
       "4                                    0                      0               3   \n",
       "...                                ...                    ...             ...   \n",
       "5315                                20                   1,21               0   \n",
       "5316                                 0                      0               0   \n",
       "5317                                32                   1,68               0   \n",
       "5318                                 0                      0               3   \n",
       "5319                                14                   0,74               0   \n",
       "\n",
       "     Media_Puntos_Locales  Puntos_Locales_Acumulados  Puntos_Visitantes  \\\n",
       "0                    1,58                          1                  0   \n",
       "1                       0                          0                  1   \n",
       "2                    2,53                          3                  0   \n",
       "3                       0                          0                  0   \n",
       "4                    1,68                          3                  0   \n",
       "...                   ...                        ...                ...   \n",
       "5315                    0                          0                  3   \n",
       "5316                 1,84                         33                  0   \n",
       "5317                    0                          0                  3   \n",
       "5318                 2,21                         40                  0   \n",
       "5319                    0                          0                  0   \n",
       "\n",
       "     Media_Puntos_Visitantes  Puntos_Visitantes_Acumulados Resultados  \\\n",
       "0                          0                             0          x   \n",
       "1                       0,47                             1          x   \n",
       "2                          0                             0          1   \n",
       "3                       0,79                             0          1   \n",
       "4                          0                             0          1   \n",
       "...                      ...                           ...        ...   \n",
       "5315                    1,21                            23          2   \n",
       "5316                       0                             0          2   \n",
       "5317                    1,58                            30          2   \n",
       "5318                       0                             0          1   \n",
       "5319                    1,11                            21          1   \n",
       "\n",
       "           Fecha  Temporada  \n",
       "0     21/08/2015  2015/2016  \n",
       "1     21/08/2015  2015/2016  \n",
       "2     22/08/2015  2015/2016  \n",
       "3     22/08/2015  2015/2016  \n",
       "4     22/08/2015  2015/2016  \n",
       "...          ...        ...  \n",
       "5315  22/05/2022  2021/2022  \n",
       "5316  22/05/2022  2021/2022  \n",
       "5317  22/05/2022  2021/2022  \n",
       "5318  22/05/2022  2021/2022  \n",
       "5319  22/05/2022  2021/2022  \n",
       "\n",
       "[5320 rows x 17 columns]"
      ]
     },
     "execution_count": 2,
     "metadata": {},
     "output_type": "execute_result"
    }
   ],
   "source": [
    "dataset_estadisticas_definitivo = pd.read_csv(r\"https://raw.githubusercontent.com/PabloLedo97/Datasets-Master-Big-Data/main/DatasetDefinitivo_Pablo_Ledo.csv\",sep=\";\",encoding='latin-1');\n",
    "dataset_estadisticas_definitivo"
   ]
  },
  {
   "cell_type": "code",
   "execution_count": 3,
   "id": "e2d98b45",
   "metadata": {},
   "outputs": [
    {
     "data": {
      "text/plain": [
       "Index(['Equipo', 'Local/Visitante', 'Goles_Locales',\n",
       "       'Suma_Goles_Locales_Acumulados', 'Media_Goles_Locales',\n",
       "       'Goles_Visitantes', 'Suma_Goles_Visitantes_Acumulados',\n",
       "       'Media_Goles_Visitantes', 'Puntos_Locales', 'Media_Puntos_Locales',\n",
       "       'Puntos_Locales_Acumulados', 'Puntos_Visitantes',\n",
       "       'Media_Puntos_Visitantes', 'Puntos_Visitantes_Acumulados', 'Resultados',\n",
       "       'Fecha', 'Temporada'],\n",
       "      dtype='object')"
      ]
     },
     "execution_count": 3,
     "metadata": {},
     "output_type": "execute_result"
    }
   ],
   "source": [
    "dataset_estadisticas_definitivo.columns"
   ]
  },
  {
   "cell_type": "raw",
   "id": "20cfe521",
   "metadata": {},
   "source": [
    "\"\"\"Este Dataset está formado por 17 columnas las cuáles corresponden a las siguientes variables:\n",
    "\n",
    "        Equipo: Indica el Equipo correspondiente de la La Liga Española.\n",
    "        \n",
    "        Local/Visitante: Indica si el equipo juega de Local o de Visitante ese partido\n",
    "        \n",
    "        Goles_Locales: Indica los Goles que ha marcado el Equipo en caso de que haya jugado cómo local ese partido. En otro caso \n",
    "        su valor es 0.\n",
    "        \n",
    "        Suma_Goles_Locales_Acumulados: Indica la suma acumulada de los Goles que ha marcado el Equipo en caso de \n",
    "        que haya jugado cómo local ese partido. En otro caso \n",
    "        su valor es 0.\n",
    "        \n",
    "        Media_Goles_Locales: Indica la Media Total de Goles que ha tenido ese equipo en el caso de que haya sido Local. En otro caso su valor es 0\n",
    "        \n",
    "        Puntos_Locales:Indica los puntos que ha sumado ese equipo en ese partido si ha jugado cómo Local. En otro caso es 0\n",
    "        \n",
    "        \n",
    "        Suma_Puntos_Locales_Acumulados: Indica la suma acumulada de los Goles que ha marcado el Equipo en caso de \n",
    "        que haya jugado cómo local ese partido. En otro caso \n",
    "        su valor es 0\n",
    "        \n",
    "        Media_Puntos_Locales: Indica la Media Total de Goles que ha tenido ese equipo en el caso de que haya sido Local. En otro caso su valor es 0\n",
    "        \n",
    "        \n",
    "         Goles_Visitantes: Indica los Goles que ha marcado el Equipo en caso de que haya jugado cómo visitante ese partido. En otro caso \n",
    "        su valor es 0.\n",
    "        \n",
    "        Suma_Goles_Visitantes_Acumulados: Indica la suma acumulada de los Goles que ha marcado el Equipo en caso de \n",
    "        que haya jugado cómo local ese partido. En otro caso \n",
    "        su valor es 0.\n",
    "        \n",
    "         Media_Goles_Visitantes: Indica la Media Total de Goles que ha tenido ese equipo en el caso de que haya sido Visitante. En otro caso su valor es 0\n",
    "        \n",
    "        \n",
    "        Puntos_Visitantes:Indica los puntos que ha sumado ese equipo en ese partido si ha jugado cómo Visitante. En otro caso es 0.\n",
    "        \n",
    "        \n",
    "        Suma_Puntos_Visitantes_Acumulados: Indica la suma acumulada de los Goles que ha marcado el Equipo en caso de \n",
    "        que haya jugado cómo visitante ese partido. En otro caso \n",
    "        su valor es 0\n",
    "        \n",
    "        Media_Puntos_Visitantes: Indica la Media Total de Goles que ha tenido ese equipo en el caso de que haya sido Visitante. En otro caso su valor es 0\n",
    "        \n",
    "        \n",
    "        \n",
    "        \n",
    "        Resultado: Indica el resultado que tuvo ese equipo en dicho partido\n",
    "        \n",
    "        \n",
    "        Fecha: Indica la fecha en que el equipo jugó dicho partido\n",
    "        \n",
    "        Temporada:Indica la temporada correspondiente a la que corresponde dicho partido\n",
    "\"\"\""
   ]
  },
  {
   "cell_type": "code",
   "execution_count": 4,
   "id": "44cbd3eb",
   "metadata": {},
   "outputs": [
    {
     "data": {
      "text/plain": [
       "(5320, 17)"
      ]
     },
     "execution_count": 4,
     "metadata": {},
     "output_type": "execute_result"
    }
   ],
   "source": [
    "#Nº De Filas y De Columnas\n",
    "dataset_estadisticas_definitivo.shape"
   ]
  },
  {
   "cell_type": "code",
   "execution_count": 5,
   "id": "46e9f83b",
   "metadata": {},
   "outputs": [
    {
     "data": {
      "text/plain": [
       "Equipo                              object\n",
       "Local/Visitante                     object\n",
       "Goles_Locales                        int64\n",
       "Suma_Goles_Locales_Acumulados        int64\n",
       "Media_Goles_Locales                 object\n",
       "Goles_Visitantes                     int64\n",
       "Suma_Goles_Visitantes_Acumulados     int64\n",
       "Media_Goles_Visitantes              object\n",
       "Puntos_Locales                       int64\n",
       "Media_Puntos_Locales                object\n",
       "Puntos_Locales_Acumulados            int64\n",
       "Puntos_Visitantes                    int64\n",
       "Media_Puntos_Visitantes             object\n",
       "Puntos_Visitantes_Acumulados         int64\n",
       "Resultados                          object\n",
       "Fecha                               object\n",
       "Temporada                           object\n",
       "dtype: object"
      ]
     },
     "execution_count": 5,
     "metadata": {},
     "output_type": "execute_result"
    }
   ],
   "source": [
    "#Tipos de Valores en las columnas\n",
    "dataset_estadisticas_definitivo.dtypes"
   ]
  },
  {
   "cell_type": "code",
   "execution_count": 6,
   "id": "1bd4abf8",
   "metadata": {},
   "outputs": [
    {
     "data": {
      "text/html": [
       "<div>\n",
       "<style scoped>\n",
       "    .dataframe tbody tr th:only-of-type {\n",
       "        vertical-align: middle;\n",
       "    }\n",
       "\n",
       "    .dataframe tbody tr th {\n",
       "        vertical-align: top;\n",
       "    }\n",
       "\n",
       "    .dataframe thead th {\n",
       "        text-align: right;\n",
       "    }\n",
       "</style>\n",
       "<table border=\"1\" class=\"dataframe\">\n",
       "  <thead>\n",
       "    <tr style=\"text-align: right;\">\n",
       "      <th></th>\n",
       "      <th>Goles_Locales</th>\n",
       "      <th>Suma_Goles_Locales_Acumulados</th>\n",
       "      <th>Goles_Visitantes</th>\n",
       "      <th>Suma_Goles_Visitantes_Acumulados</th>\n",
       "      <th>Puntos_Locales</th>\n",
       "      <th>Puntos_Locales_Acumulados</th>\n",
       "      <th>Puntos_Visitantes</th>\n",
       "      <th>Puntos_Visitantes_Acumulados</th>\n",
       "    </tr>\n",
       "  </thead>\n",
       "  <tbody>\n",
       "    <tr>\n",
       "      <th>count</th>\n",
       "      <td>5320.000000</td>\n",
       "      <td>5320.000000</td>\n",
       "      <td>5320.000000</td>\n",
       "      <td>5320.000000</td>\n",
       "      <td>5320.000000</td>\n",
       "      <td>5320.000000</td>\n",
       "      <td>5320.000000</td>\n",
       "      <td>5320.000000</td>\n",
       "    </tr>\n",
       "    <tr>\n",
       "      <th>mean</th>\n",
       "      <td>0.750564</td>\n",
       "      <td>7.419361</td>\n",
       "      <td>0.567857</td>\n",
       "      <td>5.508647</td>\n",
       "      <td>0.813158</td>\n",
       "      <td>8.000376</td>\n",
       "      <td>0.554887</td>\n",
       "      <td>5.606767</td>\n",
       "    </tr>\n",
       "    <tr>\n",
       "      <th>std</th>\n",
       "      <td>1.184756</td>\n",
       "      <td>10.518709</td>\n",
       "      <td>0.980301</td>\n",
       "      <td>7.891104</td>\n",
       "      <td>1.230700</td>\n",
       "      <td>11.097070</td>\n",
       "      <td>1.045494</td>\n",
       "      <td>8.157656</td>\n",
       "    </tr>\n",
       "    <tr>\n",
       "      <th>min</th>\n",
       "      <td>0.000000</td>\n",
       "      <td>0.000000</td>\n",
       "      <td>0.000000</td>\n",
       "      <td>0.000000</td>\n",
       "      <td>0.000000</td>\n",
       "      <td>0.000000</td>\n",
       "      <td>0.000000</td>\n",
       "      <td>0.000000</td>\n",
       "    </tr>\n",
       "    <tr>\n",
       "      <th>25%</th>\n",
       "      <td>0.000000</td>\n",
       "      <td>0.000000</td>\n",
       "      <td>0.000000</td>\n",
       "      <td>0.000000</td>\n",
       "      <td>0.000000</td>\n",
       "      <td>0.000000</td>\n",
       "      <td>0.000000</td>\n",
       "      <td>0.000000</td>\n",
       "    </tr>\n",
       "    <tr>\n",
       "      <th>50%</th>\n",
       "      <td>0.000000</td>\n",
       "      <td>0.000000</td>\n",
       "      <td>0.000000</td>\n",
       "      <td>0.000000</td>\n",
       "      <td>0.000000</td>\n",
       "      <td>0.000000</td>\n",
       "      <td>0.000000</td>\n",
       "      <td>0.000000</td>\n",
       "    </tr>\n",
       "    <tr>\n",
       "      <th>75%</th>\n",
       "      <td>1.000000</td>\n",
       "      <td>14.000000</td>\n",
       "      <td>1.000000</td>\n",
       "      <td>10.000000</td>\n",
       "      <td>1.000000</td>\n",
       "      <td>15.000000</td>\n",
       "      <td>1.000000</td>\n",
       "      <td>9.000000</td>\n",
       "    </tr>\n",
       "    <tr>\n",
       "      <th>max</th>\n",
       "      <td>10.000000</td>\n",
       "      <td>70.000000</td>\n",
       "      <td>8.000000</td>\n",
       "      <td>58.000000</td>\n",
       "      <td>3.000000</td>\n",
       "      <td>51.000000</td>\n",
       "      <td>3.000000</td>\n",
       "      <td>47.000000</td>\n",
       "    </tr>\n",
       "  </tbody>\n",
       "</table>\n",
       "</div>"
      ],
      "text/plain": [
       "       Goles_Locales  Suma_Goles_Locales_Acumulados  Goles_Visitantes  \\\n",
       "count    5320.000000                    5320.000000       5320.000000   \n",
       "mean        0.750564                       7.419361          0.567857   \n",
       "std         1.184756                      10.518709          0.980301   \n",
       "min         0.000000                       0.000000          0.000000   \n",
       "25%         0.000000                       0.000000          0.000000   \n",
       "50%         0.000000                       0.000000          0.000000   \n",
       "75%         1.000000                      14.000000          1.000000   \n",
       "max        10.000000                      70.000000          8.000000   \n",
       "\n",
       "       Suma_Goles_Visitantes_Acumulados  Puntos_Locales  \\\n",
       "count                       5320.000000     5320.000000   \n",
       "mean                           5.508647        0.813158   \n",
       "std                            7.891104        1.230700   \n",
       "min                            0.000000        0.000000   \n",
       "25%                            0.000000        0.000000   \n",
       "50%                            0.000000        0.000000   \n",
       "75%                           10.000000        1.000000   \n",
       "max                           58.000000        3.000000   \n",
       "\n",
       "       Puntos_Locales_Acumulados  Puntos_Visitantes  \\\n",
       "count                5320.000000        5320.000000   \n",
       "mean                    8.000376           0.554887   \n",
       "std                    11.097070           1.045494   \n",
       "min                     0.000000           0.000000   \n",
       "25%                     0.000000           0.000000   \n",
       "50%                     0.000000           0.000000   \n",
       "75%                    15.000000           1.000000   \n",
       "max                    51.000000           3.000000   \n",
       "\n",
       "       Puntos_Visitantes_Acumulados  \n",
       "count                   5320.000000  \n",
       "mean                       5.606767  \n",
       "std                        8.157656  \n",
       "min                        0.000000  \n",
       "25%                        0.000000  \n",
       "50%                        0.000000  \n",
       "75%                        9.000000  \n",
       "max                       47.000000  "
      ]
     },
     "execution_count": 6,
     "metadata": {},
     "output_type": "execute_result"
    }
   ],
   "source": [
    "#Muestra las estadísticas generales de los datos del dataset\n",
    "dataset_estadisticas_definitivo.describe()"
   ]
  },
  {
   "cell_type": "markdown",
   "id": "141381fc",
   "metadata": {},
   "source": [
    "### Contamos los elementos que hay de cada tipo en cada columna"
   ]
  },
  {
   "cell_type": "code",
   "execution_count": 7,
   "id": "45c07739",
   "metadata": {},
   "outputs": [
    {
     "data": {
      "text/plain": [
       "Equipo\n",
       "Alavés             228\n",
       "Athletic           266\n",
       "Atlético           266\n",
       "Barcelona          266\n",
       "Betis              266\n",
       "Celta              266\n",
       "Cádiz               76\n",
       "Deportivo          114\n",
       "Eibar              228\n",
       "Elche               76\n",
       "Espanyol           228\n",
       "Getafe             228\n",
       "Girona              76\n",
       "Granada            190\n",
       "Huesca              76\n",
       "Las Palmas         114\n",
       "Leganés            152\n",
       "Levante            228\n",
       "Mallorca            76\n",
       "Málaga             114\n",
       "Osasuna            152\n",
       "R. Sociedad        266\n",
       "Rayo               114\n",
       "Real Madrid        266\n",
       "Real Valladolid    114\n",
       "Sevilla            266\n",
       "Sporting Gijón      76\n",
       "Valencia           266\n",
       "Villarreal         266\n",
       "dtype: int64"
      ]
     },
     "execution_count": 7,
     "metadata": {},
     "output_type": "execute_result"
    }
   ],
   "source": [
    "dataset_estadisticas_definitivo.groupby(['Equipo']).size()"
   ]
  },
  {
   "cell_type": "code",
   "execution_count": 8,
   "id": "375cebd7",
   "metadata": {},
   "outputs": [
    {
     "data": {
      "text/plain": [
       "Local/Visitante\n",
       "Local        2660\n",
       "Visitante    2660\n",
       "dtype: int64"
      ]
     },
     "execution_count": 8,
     "metadata": {},
     "output_type": "execute_result"
    }
   ],
   "source": [
    "dataset_estadisticas_definitivo.groupby(['Local/Visitante']).size()"
   ]
  },
  {
   "cell_type": "code",
   "execution_count": 9,
   "id": "8a3c5b69",
   "metadata": {},
   "outputs": [
    {
     "data": {
      "text/plain": [
       "Goles_Locales\n",
       "0     3290\n",
       "1      869\n",
       "2      669\n",
       "3      292\n",
       "4      123\n",
       "5       54\n",
       "6       17\n",
       "7        4\n",
       "8        1\n",
       "10       1\n",
       "dtype: int64"
      ]
     },
     "execution_count": 9,
     "metadata": {},
     "output_type": "execute_result"
    }
   ],
   "source": [
    "dataset_estadisticas_definitivo.groupby(['Goles_Locales']).size()"
   ]
  },
  {
   "cell_type": "code",
   "execution_count": 10,
   "id": "0560ae1f",
   "metadata": {},
   "outputs": [
    {
     "data": {
      "text/plain": [
       "Goles_Visitantes\n",
       "0    3555\n",
       "1     948\n",
       "2     529\n",
       "3     179\n",
       "4      79\n",
       "5      20\n",
       "6       9\n",
       "8       1\n",
       "dtype: int64"
      ]
     },
     "execution_count": 10,
     "metadata": {},
     "output_type": "execute_result"
    }
   ],
   "source": [
    "dataset_estadisticas_definitivo.groupby(['Goles_Visitantes']).size()"
   ]
  },
  {
   "cell_type": "code",
   "execution_count": 11,
   "id": "393a27ad",
   "metadata": {},
   "outputs": [
    {
     "data": {
      "text/plain": [
       "Puntos_Locales\n",
       "0    3410\n",
       "1     702\n",
       "3    1208\n",
       "dtype: int64"
      ]
     },
     "execution_count": 11,
     "metadata": {},
     "output_type": "execute_result"
    }
   ],
   "source": [
    "dataset_estadisticas_definitivo.groupby(['Puntos_Locales']).size()"
   ]
  },
  {
   "cell_type": "code",
   "execution_count": 12,
   "id": "96052299",
   "metadata": {},
   "outputs": [
    {
     "data": {
      "text/plain": [
       "Puntos_Visitantes\n",
       "0    3868\n",
       "1     702\n",
       "3     750\n",
       "dtype: int64"
      ]
     },
     "execution_count": 12,
     "metadata": {},
     "output_type": "execute_result"
    }
   ],
   "source": [
    "dataset_estadisticas_definitivo.groupby(['Puntos_Visitantes']).size()"
   ]
  },
  {
   "cell_type": "code",
   "execution_count": 13,
   "id": "16d115ff",
   "metadata": {},
   "outputs": [
    {
     "data": {
      "text/plain": [
       "Resultados\n",
       "1    2416\n",
       "2    1500\n",
       "x    1404\n",
       "dtype: int64"
      ]
     },
     "execution_count": 13,
     "metadata": {},
     "output_type": "execute_result"
    }
   ],
   "source": [
    "dataset_estadisticas_definitivo.groupby(['Resultados']).size()"
   ]
  },
  {
   "cell_type": "code",
   "execution_count": 14,
   "id": "eca8f7e7",
   "metadata": {},
   "outputs": [
    {
     "data": {
      "text/plain": [
       "Fecha\n",
       "01/02/2016    2\n",
       "01/02/2019    2\n",
       "01/02/2020    8\n",
       "01/02/2021    2\n",
       "01/03/2016    4\n",
       "             ..\n",
       "31/10/2020    8\n",
       "31/10/2021    8\n",
       "31/12/2015    2\n",
       "31/12/2020    4\n",
       "31/12/2021    2\n",
       "Length: 909, dtype: int64"
      ]
     },
     "execution_count": 14,
     "metadata": {},
     "output_type": "execute_result"
    }
   ],
   "source": [
    "dataset_estadisticas_definitivo.groupby(['Fecha']).size()"
   ]
  },
  {
   "cell_type": "code",
   "execution_count": 17,
   "id": "8186e7f8",
   "metadata": {},
   "outputs": [
    {
     "data": {
      "text/plain": [
       "array([[<AxesSubplot:title={'center':'Goles_Locales'}>,\n",
       "        <AxesSubplot:title={'center':'Suma_Goles_Locales_Acumulados'}>,\n",
       "        <AxesSubplot:title={'center':'Goles_Visitantes'}>],\n",
       "       [<AxesSubplot:title={'center':'Suma_Goles_Visitantes_Acumulados'}>,\n",
       "        <AxesSubplot:title={'center':'Puntos_Locales'}>,\n",
       "        <AxesSubplot:title={'center':'Puntos_Locales_Acumulados'}>],\n",
       "       [<AxesSubplot:title={'center':'Puntos_Visitantes'}>,\n",
       "        <AxesSubplot:title={'center':'Puntos_Visitantes_Acumulados'}>,\n",
       "        <AxesSubplot:>]], dtype=object)"
      ]
     },
     "execution_count": 17,
     "metadata": {},
     "output_type": "execute_result"
    },
    {
     "data": {
      "image/png": "[encoded data removed]",
      "text/plain": [
       "<Figure size 1440x1080 with 9 Axes>"
      ]
     },
     "metadata": {
      "needs_background": "light"
     },
     "output_type": "display_data"
    }
   ],
   "source": [
    "#Creación histogramas  con matplotlib\n",
    "import matplotlib.pyplot as plt\n",
    "dataset_estadisticas_definitivo.hist(figsize=(20,15))"
   ]
  },
  {
   "cell_type": "code",
   "execution_count": null,
   "id": "237d054c",
   "metadata": {},
   "outputs": [],
   "source": []
  }
 ],
 "metadata": {
  "kernelspec": {
   "display_name": "Python 3",
   "language": "python",
   "name": "python3"
  },
  "language_info": {
   "codemirror_mode": {
    "name": "ipython",
    "version": 3
   },
   "file_extension": ".py",
   "mimetype": "text/x-python",
   "name": "python",
   "nbconvert_exporter": "python",
   "pygments_lexer": "ipython3",
   "version": "3.8.8"
  }
 },
 "nbformat": 4,
 "nbformat_minor": 5
}
